{
 "cells": [
  {
   "cell_type": "code",
   "execution_count": 2,
   "id": "d5ba5a0e-7117-432a-96cd-454d4eefde15",
   "metadata": {},
   "outputs": [
    {
     "name": "stdout",
     "output_type": "stream",
     "text": [
      "Requirement already satisfied: openpyxl in /Users/anthonyparedesu/anaconda3/envs/Datascience_usfq/lib/python3.11/site-packages (3.1.2)\n",
      "Requirement already satisfied: et-xmlfile in /Users/anthonyparedesu/anaconda3/envs/Datascience_usfq/lib/python3.11/site-packages (from openpyxl) (1.1.0)\n",
      "Note: you may need to restart the kernel to use updated packages.\n"
     ]
    }
   ],
   "source": [
    "pip install openpyxl"
   ]
  },
  {
   "cell_type": "code",
   "execution_count": 3,
   "id": "ff4ea9ef-5d15-4fd8-b8db-c245f4e60a4b",
   "metadata": {},
   "outputs": [],
   "source": [
    "import pandas as pd"
   ]
  },
  {
   "cell_type": "code",
   "execution_count": 4,
   "id": "13e5504b-7d62-4d27-8ef2-89551ee6a525",
   "metadata": {},
   "outputs": [],
   "source": [
    "import numpy as np"
   ]
  },
  {
   "cell_type": "code",
   "execution_count": 5,
   "id": "95f7b07e-7751-482e-b586-157fc5bd7923",
   "metadata": {},
   "outputs": [],
   "source": [
    "import seaborn as sns"
   ]
  },
  {
   "cell_type": "code",
   "execution_count": 6,
   "id": "7f6ac2b8-5e3d-4168-92ca-d021199c06b4",
   "metadata": {},
   "outputs": [],
   "source": [
    "import matplotlib.pyplot as plt"
   ]
  },
  {
   "cell_type": "code",
   "execution_count": 7,
   "id": "6703b6ad-0812-4f17-9542-96e8598b34c0",
   "metadata": {},
   "outputs": [],
   "source": [
    "try:\n",
    "    dfenero=pd.read_csv(\"emergencias_enero_2022.csv\", sep=\",\", encoding=\"utf-8\")\n",
    "except UnicodeDecodeError:\n",
    "    try:\n",
    "        dfenero=pd.read_csv(\"emergencias_enero_2022.csv\", sep=\",\", encoding=\"latin1\")\n",
    "    except Exception as e:\n",
    "        print(\"No se puede cargar archivo\", e)"
   ]
  },
  {
   "cell_type": "code",
   "execution_count": 8,
   "id": "3b1033ad-9ab8-4307-a606-afa593406822",
   "metadata": {},
   "outputs": [],
   "source": [
    "try:\n",
    "    dffebrero=pd.read_csv(\"emergencias_febrero_2022.csv\", sep=\",\", encoding=\"utf-8\")\n",
    "except UnicodeDecodeError:\n",
    "    try:\n",
    "        dffebrero=pd.read_csv(\"emergencias_febrero_2022.csv\", sep=\",\", encoding=\"latin1\")\n",
    "    except Exception as e:\n",
    "        print(\"No se puede cargar archivo\", e)"
   ]
  },
  {
   "cell_type": "code",
   "execution_count": 9,
   "id": "99190a06-4ff6-423f-bb2d-64df439e06a6",
   "metadata": {},
   "outputs": [],
   "source": [
    "dfmarzo=pd.read_excel(\"emergencias_marzo_2022.xlsx\")"
   ]
  },
  {
   "cell_type": "code",
   "execution_count": 10,
   "id": "37619ad2-34b6-4b9c-9a37-ec3b33e46c37",
   "metadata": {},
   "outputs": [],
   "source": [
    "try:\n",
    "    dfabril=pd.read_csv(\"emergencias_abril_2022.csv\", sep=\",\", encoding=\"utf-8\")\n",
    "except UnicodeDecodeError:\n",
    "    try:\n",
    "        dfabril=pd.read_csv(\"emergencias_abril_2022.csv\", sep=\",\", encoding=\"latin1\")\n",
    "    except Exception as e:\n",
    "        print(\"No se puede cargar archivo\", e)"
   ]
  },
  {
   "cell_type": "code",
   "execution_count": 11,
   "id": "17b85004-2cc3-4632-9e0a-5fbdcd8a1253",
   "metadata": {},
   "outputs": [],
   "source": [
    "try:\n",
    "    dfmayo=pd.read_csv(\"emergencias_mayo_2022.csv\", sep=\",\", encoding=\"utf-8\")\n",
    "except UnicodeDecodeError:\n",
    "    try:\n",
    "        dfmayo=pd.read_csv(\"emergencias_mayo_2022.csv\", sep=\",\", encoding=\"latin1\")\n",
    "    except Exception as e:\n",
    "        print(\"No se puede cargar archivo\", e)"
   ]
  },
  {
   "cell_type": "code",
   "execution_count": 12,
   "id": "a53b4791-cdc9-4e1e-b293-fb5b9d33daab",
   "metadata": {},
   "outputs": [],
   "source": [
    "dfmayo = dfmayo.rename(columns={\"IncidentTime_Fecha\": \"Fecha\", \"Provincia\": \"provincia\", \"NewIncidentTypeName\": \"Subtipo\", \"IncidentTypeName2\": \"Servicio\"})"
   ]
  },
  {
   "cell_type": "code",
   "execution_count": 13,
   "id": "e518db52-12b8-4b04-ab90-d771dd41b2ec",
   "metadata": {},
   "outputs": [],
   "source": [
    "dfjunio=pd.read_excel(\"emergencias_junio_2022.xlsx\")"
   ]
  },
  {
   "cell_type": "code",
   "execution_count": 14,
   "id": "848f78a8-7d4b-4c5b-90d8-3b467d31711b",
   "metadata": {},
   "outputs": [],
   "source": [
    "dfjunio = dfjunio.rename(columns={\"IncidentTime_Fecha\": \"Fecha\", \"Provincia\": \"provincia\", \"NewIncidentTypeName\": \"Subtipo\", \"IncidentTypeName2\": \"Servicio\"})"
   ]
  },
  {
   "cell_type": "code",
   "execution_count": 15,
   "id": "e76d3e4f-33b8-43ae-aa04-77e1ef801df6",
   "metadata": {},
   "outputs": [],
   "source": [
    "try:\n",
    "    dfjulio=pd.read_csv(\"emergencias_julio_2022.csv\", sep=\",\", encoding=\"utf-8\")\n",
    "except UnicodeDecodeError:\n",
    "    try:\n",
    "        dfjulio=pd.read_csv(\"emergencias_julio_2022.csv\", sep=\",\", encoding=\"latin1\")\n",
    "    except Exception as e:\n",
    "        print(\"No se puede cargar archivo\", e)"
   ]
  },
  {
   "cell_type": "code",
   "execution_count": 16,
   "id": "414c74b4-3316-496f-9fb1-6d1e581901f6",
   "metadata": {},
   "outputs": [],
   "source": [
    "dfagosto= pd.read_excel(\"emergencias_agosto_2022.xlsx\")"
   ]
  },
  {
   "cell_type": "code",
   "execution_count": 17,
   "id": "fe0f3930-3619-475c-91a0-688d6f8c2815",
   "metadata": {},
   "outputs": [],
   "source": [
    "try:\n",
    "    dfoctubre=pd.read_csv(\"emergencias_octubre_2022.csv\", sep=\",\", encoding=\"utf-8\")\n",
    "except UnicodeDecodeError:\n",
    "    try:\n",
    "        dfoctubre=pd.read_csv(\"emergencias_octubre_2022.csv\", sep=\",\", encoding=\"latin1\")\n",
    "    except Exception as e:\n",
    "        print(\"No se puede cargar archivo\", e)"
   ]
  },
  {
   "cell_type": "code",
   "execution_count": 18,
   "id": "296a2cb4-f2e3-4265-846c-2047cc2218f5",
   "metadata": {},
   "outputs": [],
   "source": [
    "dfoctubre = dfoctubre.rename(columns={\"Servicio\": \"Subtipo\", \"Subtipo\": \"Servicio\"})"
   ]
  },
  {
   "cell_type": "code",
   "execution_count": 19,
   "id": "fc6dde89-014b-47a0-9239-3b5c53372df1",
   "metadata": {},
   "outputs": [],
   "source": [
    "try:\n",
    "    dfnoviembre=pd.read_csv(\"emergencias_noviembre_2022.csv\", sep=\",\", encoding=\"utf-8\")\n",
    "except UnicodeDecodeError:\n",
    "    try:\n",
    "        dfnoviembre=pd.read_csv(\"emergencias_noviembre_2022.csv\", sep=\",\", encoding=\"latin1\")\n",
    "    except Exception as e:\n",
    "        print(\"No se puede cargar archivo\", e)"
   ]
  },
  {
   "cell_type": "code",
   "execution_count": 20,
   "id": "c26b552a-b6d7-4f6c-9090-69114106ac96",
   "metadata": {},
   "outputs": [],
   "source": [
    "try:\n",
    "    dfdiciembre=pd.read_csv(\"emergencias_diciembre_2022.csv\", sep=\",\", encoding=\"utf-8\")\n",
    "except UnicodeDecodeError:\n",
    "    try:\n",
    "        dfdiciembre=pd.read_csv(\"emergencias_diciembre_2022.csv\", sep=\",\", encoding=\"latin1\")\n",
    "    except Exception as e:\n",
    "        print(\"No se puede cargar archivo\", e)"
   ]
  },
  {
   "cell_type": "code",
   "execution_count": 21,
   "id": "44c99393-df3d-4f58-84fd-aefcf1233d2c",
   "metadata": {},
   "outputs": [],
   "source": [
    "dfdiciembre = dfdiciembre.rename(columns={\"Servicio\": \"Subtipo\", \"Subtipo\": \"Servicio\"})"
   ]
  },
  {
   "cell_type": "code",
   "execution_count": 22,
   "id": "845ad7f0-e305-485c-ac6d-d3d82125073b",
   "metadata": {},
   "outputs": [],
   "source": [
    "nuevo_orden = [\"Fecha\", \"provincia\", \"Canton\", \"Cod_Parroquia\", \"Parroquia\", \"Servicio\", \"Subtipo\"]\n",
    "dfmayo = dfmayo[nuevo_orden]\n",
    "dfjunio = dfjunio[nuevo_orden]\n",
    "dfoctubre = dfoctubre[nuevo_orden]\n",
    "dfdiciembre = dfdiciembre[nuevo_orden]"
   ]
  },
  {
   "cell_type": "code",
   "execution_count": 23,
   "id": "de7130bb-34bb-40eb-8923-330d90721757",
   "metadata": {},
   "outputs": [],
   "source": [
    "dfagosto[\"Fecha\"] = pd.to_datetime(dfagosto[\"Fecha\"]).dt.strftime(\"%d/%m/%Y\")"
   ]
  },
  {
   "cell_type": "code",
   "execution_count": 24,
   "id": "a0bf39d4-ea82-4d66-85c0-68006fc72307",
   "metadata": {},
   "outputs": [],
   "source": [
    "dfenero.to_csv(\"emergencias_enero_2022.csv\", index = False, encoding = \"utf-8\")\n",
    "dffebrero.to_csv(\"emergencias_febrero_2022.csv\", index = False, encoding = \"utf-8\")\n",
    "dfmarzo.to_csv(\"emergencias_marzo_2022.csv\", index = False, encoding = \"utf-8\")\n",
    "dfabril.to_csv(\"emergencias_abril_2022.csv\", index = False, encoding = \"utf-8\")\n",
    "dfmayo.to_csv(\"emergencias_mayo_2022.csv\", index = False, encoding = \"utf-8\")\n",
    "dfjunio.to_csv(\"emergencias_junio_2022.csv\", index = False, encoding = \"utf-8\")\n",
    "dfjulio.to_csv(\"emergencias_julio_2022.csv\", index = False, encoding = \"utf-8\")\n",
    "dfagosto.to_csv(\"agosto.csv\", index = False, encoding = \"utf-8\")\n",
    "dfoctubre.to_csv(\"emergencias_octubre_2022.csv\", index = False, encoding = \"utf-8\")\n",
    "dfnoviembre.to_csv(\"emergencias_noviembre_2022.csv\", index = False, encoding = \"utf-8\")\n",
    "dfdiciembre.to_csv(\"emergencias_diciembre_2022.csv\", index = False, encoding = \"utf-8\")"
   ]
  },
  {
   "cell_type": "code",
   "execution_count": 25,
   "id": "e9041f1c-d747-4f8d-9109-a41243551257",
   "metadata": {},
   "outputs": [],
   "source": [
    "dfanual = pd.concat([dfenero, dffebrero, dfmarzo, dfabril, dfmayo, dfjunio, dfjulio, dfagosto, dfoctubre, dfnoviembre, dfdiciembre], ignore_index = True)"
   ]
  },
  {
   "cell_type": "code",
   "execution_count": 26,
   "id": "2e9f839a-03d2-47d0-bfdc-721f6387c089",
   "metadata": {},
   "outputs": [
    {
     "data": {
      "text/html": [
       "<div>\n",
       "<style scoped>\n",
       "    .dataframe tbody tr th:only-of-type {\n",
       "        vertical-align: middle;\n",
       "    }\n",
       "\n",
       "    .dataframe tbody tr th {\n",
       "        vertical-align: top;\n",
       "    }\n",
       "\n",
       "    .dataframe thead th {\n",
       "        text-align: right;\n",
       "    }\n",
       "</style>\n",
       "<table border=\"1\" class=\"dataframe\">\n",
       "  <thead>\n",
       "    <tr style=\"text-align: right;\">\n",
       "      <th></th>\n",
       "      <th>Fecha</th>\n",
       "      <th>provincia</th>\n",
       "      <th>Canton</th>\n",
       "      <th>Cod_Parroquia</th>\n",
       "      <th>Parroquia</th>\n",
       "      <th>Servicio</th>\n",
       "      <th>Subtipo</th>\n",
       "    </tr>\n",
       "  </thead>\n",
       "  <tbody>\n",
       "    <tr>\n",
       "      <th>0</th>\n",
       "      <td>01/01/2022</td>\n",
       "      <td>PICHINCHA</td>\n",
       "      <td>QUITO</td>\n",
       "      <td>170150.0</td>\n",
       "      <td>QUITO DISTRITO METROPOLITANO, CABECERA CANTONA...</td>\n",
       "      <td>Seguridad Ciudadana</td>\n",
       "      <td>Presencia policial</td>\n",
       "    </tr>\n",
       "    <tr>\n",
       "      <th>1</th>\n",
       "      <td>01/01/2022</td>\n",
       "      <td>PICHINCHA</td>\n",
       "      <td>QUITO</td>\n",
       "      <td>170177.0</td>\n",
       "      <td>POMASQUI</td>\n",
       "      <td>Seguridad Ciudadana</td>\n",
       "      <td>Fiestas en vivienda</td>\n",
       "    </tr>\n",
       "    <tr>\n",
       "      <th>2</th>\n",
       "      <td>01/01/2022</td>\n",
       "      <td>PICHINCHA</td>\n",
       "      <td>QUITO</td>\n",
       "      <td>170159.0</td>\n",
       "      <td>CHECA (CHILPA)</td>\n",
       "      <td>Seguridad Ciudadana</td>\n",
       "      <td>Escándalo en espacio público</td>\n",
       "    </tr>\n",
       "    <tr>\n",
       "      <th>3</th>\n",
       "      <td>01/01/2022</td>\n",
       "      <td>PICHINCHA</td>\n",
       "      <td>RUMIÑAHUI</td>\n",
       "      <td>170550.0</td>\n",
       "      <td>SANGOLQUI, CABECERA CANTONAL</td>\n",
       "      <td>Seguridad Ciudadana</td>\n",
       "      <td>Patrullaje policial en el sector solicitado</td>\n",
       "    </tr>\n",
       "    <tr>\n",
       "      <th>4</th>\n",
       "      <td>01/01/2022</td>\n",
       "      <td>PICHINCHA</td>\n",
       "      <td>QUITO</td>\n",
       "      <td>170159.0</td>\n",
       "      <td>CHECA (CHILPA)</td>\n",
       "      <td>Seguridad Ciudadana</td>\n",
       "      <td>Escándalo en espacio público</td>\n",
       "    </tr>\n",
       "    <tr>\n",
       "      <th>...</th>\n",
       "      <td>...</td>\n",
       "      <td>...</td>\n",
       "      <td>...</td>\n",
       "      <td>...</td>\n",
       "      <td>...</td>\n",
       "      <td>...</td>\n",
       "      <td>...</td>\n",
       "    </tr>\n",
       "    <tr>\n",
       "      <th>3335959</th>\n",
       "      <td>31/12/2022</td>\n",
       "      <td>SANTO DOMINGO DE LOS TSACHILAS</td>\n",
       "      <td>SANTO DOMINGO</td>\n",
       "      <td>230150.0</td>\n",
       "      <td>SANTO DOMINGO DE LOS COLORADOS, CABECERA CANTO...</td>\n",
       "      <td>Procedimientos</td>\n",
       "      <td>Tránsito y Movilidad</td>\n",
       "    </tr>\n",
       "    <tr>\n",
       "      <th>3335960</th>\n",
       "      <td>31/12/2022</td>\n",
       "      <td>SANTO DOMINGO DE LOS TSACHILAS</td>\n",
       "      <td>SANTO DOMINGO</td>\n",
       "      <td>230150.0</td>\n",
       "      <td>SANTO DOMINGO DE LOS COLORADOS, CABECERA CANTO...</td>\n",
       "      <td>Daño a propiedad pública o privada</td>\n",
       "      <td>Seguridad Ciudadana</td>\n",
       "    </tr>\n",
       "    <tr>\n",
       "      <th>3335961</th>\n",
       "      <td>31/12/2022</td>\n",
       "      <td>SANTO DOMINGO DE LOS TSACHILAS</td>\n",
       "      <td>SANTO DOMINGO</td>\n",
       "      <td>230150.0</td>\n",
       "      <td>SANTO DOMINGO DE LOS COLORADOS, CABECERA CANTO...</td>\n",
       "      <td>Patrullaje policial en el sector solicitado</td>\n",
       "      <td>Seguridad Ciudadana</td>\n",
       "    </tr>\n",
       "    <tr>\n",
       "      <th>3335962</th>\n",
       "      <td>31/12/2022</td>\n",
       "      <td>SANTO DOMINGO DE LOS TSACHILAS</td>\n",
       "      <td>SANTO DOMINGO</td>\n",
       "      <td>230150.0</td>\n",
       "      <td>SANTO DOMINGO DE LOS COLORADOS, CABECERA CANTO...</td>\n",
       "      <td>Eventos clínicos</td>\n",
       "      <td>Gestión Sanitaria</td>\n",
       "    </tr>\n",
       "    <tr>\n",
       "      <th>3335963</th>\n",
       "      <td>31/12/2022</td>\n",
       "      <td>SANTO DOMINGO DE LOS TSACHILAS</td>\n",
       "      <td>SANTO DOMINGO</td>\n",
       "      <td>230150.0</td>\n",
       "      <td>SANTO DOMINGO DE LOS COLORADOS, CABECERA CANTO...</td>\n",
       "      <td>Violencia intrafamiliar</td>\n",
       "      <td>Seguridad Ciudadana</td>\n",
       "    </tr>\n",
       "  </tbody>\n",
       "</table>\n",
       "<p>3335964 rows × 7 columns</p>\n",
       "</div>"
      ],
      "text/plain": [
       "              Fecha                       provincia         Canton  \\\n",
       "0        01/01/2022                       PICHINCHA          QUITO   \n",
       "1        01/01/2022                       PICHINCHA          QUITO   \n",
       "2        01/01/2022                       PICHINCHA          QUITO   \n",
       "3        01/01/2022                       PICHINCHA      RUMIÑAHUI   \n",
       "4        01/01/2022                       PICHINCHA          QUITO   \n",
       "...             ...                             ...            ...   \n",
       "3335959  31/12/2022  SANTO DOMINGO DE LOS TSACHILAS  SANTO DOMINGO   \n",
       "3335960  31/12/2022  SANTO DOMINGO DE LOS TSACHILAS  SANTO DOMINGO   \n",
       "3335961  31/12/2022  SANTO DOMINGO DE LOS TSACHILAS  SANTO DOMINGO   \n",
       "3335962  31/12/2022  SANTO DOMINGO DE LOS TSACHILAS  SANTO DOMINGO   \n",
       "3335963  31/12/2022  SANTO DOMINGO DE LOS TSACHILAS  SANTO DOMINGO   \n",
       "\n",
       "         Cod_Parroquia                                          Parroquia  \\\n",
       "0             170150.0  QUITO DISTRITO METROPOLITANO, CABECERA CANTONA...   \n",
       "1             170177.0                                           POMASQUI   \n",
       "2             170159.0                                     CHECA (CHILPA)   \n",
       "3             170550.0                       SANGOLQUI, CABECERA CANTONAL   \n",
       "4             170159.0                                     CHECA (CHILPA)   \n",
       "...                ...                                                ...   \n",
       "3335959       230150.0  SANTO DOMINGO DE LOS COLORADOS, CABECERA CANTO...   \n",
       "3335960       230150.0  SANTO DOMINGO DE LOS COLORADOS, CABECERA CANTO...   \n",
       "3335961       230150.0  SANTO DOMINGO DE LOS COLORADOS, CABECERA CANTO...   \n",
       "3335962       230150.0  SANTO DOMINGO DE LOS COLORADOS, CABECERA CANTO...   \n",
       "3335963       230150.0  SANTO DOMINGO DE LOS COLORADOS, CABECERA CANTO...   \n",
       "\n",
       "                                            Servicio  \\\n",
       "0                                Seguridad Ciudadana   \n",
       "1                                Seguridad Ciudadana   \n",
       "2                                Seguridad Ciudadana   \n",
       "3                                Seguridad Ciudadana   \n",
       "4                                Seguridad Ciudadana   \n",
       "...                                              ...   \n",
       "3335959                               Procedimientos   \n",
       "3335960           Daño a propiedad pública o privada   \n",
       "3335961  Patrullaje policial en el sector solicitado   \n",
       "3335962                             Eventos clínicos   \n",
       "3335963                      Violencia intrafamiliar   \n",
       "\n",
       "                                             Subtipo  \n",
       "0                                 Presencia policial  \n",
       "1                                Fiestas en vivienda  \n",
       "2                       Escándalo en espacio público  \n",
       "3        Patrullaje policial en el sector solicitado  \n",
       "4                       Escándalo en espacio público  \n",
       "...                                              ...  \n",
       "3335959                         Tránsito y Movilidad  \n",
       "3335960                          Seguridad Ciudadana  \n",
       "3335961                          Seguridad Ciudadana  \n",
       "3335962                            Gestión Sanitaria  \n",
       "3335963                          Seguridad Ciudadana  \n",
       "\n",
       "[3335964 rows x 7 columns]"
      ]
     },
     "execution_count": 26,
     "metadata": {},
     "output_type": "execute_result"
    }
   ],
   "source": [
    "dfanual"
   ]
  },
  {
   "cell_type": "code",
   "execution_count": 27,
   "id": "b5035072-f900-440d-bb86-91212572f66e",
   "metadata": {},
   "outputs": [],
   "source": [
    "#tipo_fecha=dfanual[\"Fecha\"].dtype\n",
    "#print(\"Fecha es:\", tipo_fecha)\n",
    "#tipo_provincia=dfanual[\"provincia\"].dtype\n",
    "#print(\"Provincia es:\", tipo_provincia)\n",
    "#tipo_canton=dfanual[\"Canton\"].dtype\n",
    "#print(\"Canton es:\", tipo_canton)\n",
    "#tipo_codparroquia=dfanual[\"Cod_Parroquia\"].dtype\n",
    "#print(\"Cod_Parroquia es:\", tipo_codparroquia)\n",
    "#tipo_parroquia=dfanual[\"Parroquia\"].dtype\n",
    "#print(\"Parroquia es:\", tipo_parroquia)\n",
    "#tipo_servicio=dfanual[\"Servicio\"].dtype\n",
    "#print(\"Servicio es:\", tipo_servicio)\n",
    "#tipo_subtipo=dfanual[\"Subtipo\"].dtype\n",
    "#print(\"Subtipo es:\", tipo_subtipo)"
   ]
  },
  {
   "cell_type": "code",
   "execution_count": 28,
   "id": "88244a98-101d-49e6-9d7a-bd904c288d2f",
   "metadata": {},
   "outputs": [
    {
     "name": "stdout",
     "output_type": "stream",
     "text": [
      "Fecha\n",
      "01/01/2022             20326\n",
      "20/02/2022             14469\n",
      "13/02/2022             14456\n",
      "2022-06-19 00:00:00    14307\n",
      "01/05/2022             14019\n",
      "                       ...  \n",
      "2022-06-29 00:00:00     7677\n",
      "2022-06-30 00:00:00     7658\n",
      "2022-06-22 00:00:00     7653\n",
      "2022-06-28 00:00:00     7336\n",
      "05/05/2022              7325\n",
      "Name: count, Length: 335, dtype: int64\n"
     ]
    }
   ],
   "source": [
    "conteo_fecha = dfanual[\"Fecha\"].value_counts()\n",
    "print(conteo_fecha)"
   ]
  },
  {
   "cell_type": "code",
   "execution_count": 29,
   "id": "64b307d6-8e84-4ed9-82c5-c7915247e901",
   "metadata": {},
   "outputs": [
    {
     "name": "stdout",
     "output_type": "stream",
     "text": [
      "provincia\n",
      "GUAYAS                            808419\n",
      "PICHINCHA                         799138\n",
      "AZUAY                             188732\n",
      "MANABI                            174622\n",
      "LOS RIOS                          154766\n",
      "EL ORO                            154416\n",
      "TUNGURAHUA                        140085\n",
      "IMBABURA                          116690\n",
      "SANTO DOMINGO DE LOS TSACHILAS    111505\n",
      "CHIMBORAZO                         94837\n",
      "LOJA                               92170\n",
      "ESMERALDAS                         89244\n",
      "COTOPAXI                           65783\n",
      "SANTA ELENA                        50318\n",
      "SUCUMBIOS                          42566\n",
      "CARCHI                             38421\n",
      "MORONA SANTIAGO                    37827\n",
      "CAÑAR                              36503\n",
      "BOLIVAR                            34006\n",
      "ORELLANA                           33378\n",
      "PASTAZA                            27070\n",
      "NAPO                               18762\n",
      "ZAMORA CHINCHIPE                   15160\n",
      "GALAPAGOS                          10509\n",
      "ZONA NO DELIMITADA                   837\n",
      "Name: count, dtype: int64\n"
     ]
    }
   ],
   "source": [
    "conteo_provincia =dfanual[\"provincia\"].value_counts()\n",
    "print(conteo_provincia)"
   ]
  },
  {
   "cell_type": "code",
   "execution_count": 30,
   "id": "d080b33a-9280-4918-a1d5-e4b0c1e9c3be",
   "metadata": {},
   "outputs": [
    {
     "name": "stdout",
     "output_type": "stream",
     "text": [
      "Canton\n",
      "QUITO            705161\n",
      "GUAYAQUIL        568580\n",
      "CUENCA           163147\n",
      "AMBATO           110188\n",
      "SANTO DOMINGO    102587\n",
      "                  ...  \n",
      "SAN FERNANDO        212\n",
      "CHILLA              205\n",
      "SUCUMBIOS           141\n",
      "AGUARICO            100\n",
      "LOGROÑO              98\n",
      "Name: count, Length: 222, dtype: int64\n"
     ]
    }
   ],
   "source": [
    "conteo_canton = dfanual[\"Canton\"].value_counts()\n",
    "print(conteo_canton)"
   ]
  },
  {
   "cell_type": "code",
   "execution_count": 31,
   "id": "28ae0633-43d6-4f41-ae15-f1aabcbe6317",
   "metadata": {},
   "outputs": [
    {
     "name": "stdout",
     "output_type": "stream",
     "text": [
      "Parroquia\n",
      "GUAYAQUIL, CABECERA CANTONAL Y CAPITAL PROVINCIAL     560179\n",
      "QUITO DISTRITO METROPOLITANO, CABECERA CANTONAL, *    542971\n",
      "CUENCA, CABECERA CANTONAL Y CAPITAL PROVINCIAL.       134875\n",
      "SANTO DOMINGO DE LOS COLORADOS, CABECERA CANTONAL*     95086\n",
      "AMBATO, CABECERA CANTONAL Y CAPITAL PROVINCIAL         85591\n",
      "MACHALA, CABECERA CANTONAL Y CAPITAL PROVINCIAL        77928\n",
      "SAN MIGUEL DE IBARRA, CABECERA CANTONAL Y CAPITAL*     68066\n",
      "RIOBAMBA, CABECERA CANTONAL Y CAPITAL PROVINCIAL       67550\n",
      "LOJA, CABECERA CANTONAL Y CAPITAL PROVINCIAL           61556\n",
      "ELOY ALFARO (DURÁN), CABECERA CANTONAL                 54754\n",
      "Name: count, dtype: int64\n"
     ]
    }
   ],
   "source": [
    "conteo_parroquia = dfanual[\"Parroquia\"].value_counts()\n",
    "print(conteo_parroquia.head(10))"
   ]
  },
  {
   "cell_type": "code",
   "execution_count": 32,
   "id": "12c6bc83-bc51-4d53-b36d-7e9e67d8848a",
   "metadata": {},
   "outputs": [
    {
     "name": "stdout",
     "output_type": "stream",
     "text": [
      "Servicio\n",
      "Seguridad Ciudadana                            1949156\n",
      "Gestión Sanitaria                               334374\n",
      "Tránsito y Movilidad                            254600\n",
      "Patrullaje policial en el sector solicitado     156493\n",
      "Servicios Municipales                           126352\n",
      "Name: count, dtype: int64\n"
     ]
    }
   ],
   "source": [
    "conteo_servicio = dfanual[\"Servicio\"].value_counts()\n",
    "print(conteo_servicio.head())"
   ]
  },
  {
   "cell_type": "code",
   "execution_count": 33,
   "id": "dfe3d917-c1ee-4b13-a20f-edf1b701571a",
   "metadata": {},
   "outputs": [
    {
     "name": "stdout",
     "output_type": "stream",
     "text": [
      "Subtipo\n",
      "Patrullaje policial en el sector solicitado                  672161\n",
      "Seguridad Ciudadana                                          424892\n",
      "Libadores                                                    227692\n",
      "Presencia policial                                           135819\n",
      "Resguardo a personas que traslada valores a nivel local      105281\n",
      "Escándalo en espacio público                                  99424\n",
      "Gestión Sanitaria                                             72971\n",
      "Registro de personas y/o vehículos con actitud sospechosa     69013\n",
      "Tránsito y Movilidad                                          64419\n",
      "Escándalo en espacio privado                                  52907\n",
      "Name: count, dtype: int64\n"
     ]
    }
   ],
   "source": [
    "conteo_subtipo = dfanual[\"Subtipo\"].value_counts()\n",
    "print(conteo_subtipo.head(10))"
   ]
  },
  {
   "cell_type": "code",
   "execution_count": 34,
   "id": "fc959c29-fba6-41db-82cc-939e9bc170a8",
   "metadata": {},
   "outputs": [
    {
     "name": "stdout",
     "output_type": "stream",
     "text": [
      "647\n"
     ]
    }
   ],
   "source": [
    "num_variables = dfanual[\"Subtipo\"].nunique()\n",
    "print(num_variables)"
   ]
  },
  {
   "cell_type": "code",
   "execution_count": 35,
   "id": "ab9e2020-6647-4f05-9794-cb684ebff233",
   "metadata": {},
   "outputs": [],
   "source": [
    "total_nule = dfanual.isnull().sum()"
   ]
  },
  {
   "cell_type": "code",
   "execution_count": 36,
   "id": "b8ce2e7f-2e4b-4ac6-91a7-a6fcc59cff0c",
   "metadata": {},
   "outputs": [
    {
     "data": {
      "text/plain": [
       "Fecha              0\n",
       "provincia        200\n",
       "Canton           200\n",
       "Cod_Parroquia    200\n",
       "Parroquia        200\n",
       "Servicio           0\n",
       "Subtipo            7\n",
       "dtype: int64"
      ]
     },
     "execution_count": 36,
     "metadata": {},
     "output_type": "execute_result"
    }
   ],
   "source": [
    "total_nule"
   ]
  },
  {
   "cell_type": "code",
   "execution_count": 37,
   "id": "f650b7e1-879f-4ef8-81e6-c7b5e60c2490",
   "metadata": {},
   "outputs": [],
   "source": [
    "dfnulos = dfanual[dfanual.isnull().any(axis = 1)]"
   ]
  },
  {
   "cell_type": "code",
   "execution_count": 38,
   "id": "72634662-d230-46b8-827d-edd68577804b",
   "metadata": {},
   "outputs": [],
   "source": [
    "dfnulos.to_csv(\"dfnulos.csv\", index = False)"
   ]
  },
  {
   "cell_type": "code",
   "execution_count": 39,
   "id": "e5748d99-3573-4a0f-9ceb-768731162ad7",
   "metadata": {},
   "outputs": [],
   "source": [
    "dfanual = dfanual.dropna()"
   ]
  },
  {
   "cell_type": "code",
   "execution_count": 40,
   "id": "3e83711c-72f6-4d55-bf3c-d42d55b12602",
   "metadata": {},
   "outputs": [
    {
     "data": {
      "text/html": [
       "<div>\n",
       "<style scoped>\n",
       "    .dataframe tbody tr th:only-of-type {\n",
       "        vertical-align: middle;\n",
       "    }\n",
       "\n",
       "    .dataframe tbody tr th {\n",
       "        vertical-align: top;\n",
       "    }\n",
       "\n",
       "    .dataframe thead th {\n",
       "        text-align: right;\n",
       "    }\n",
       "</style>\n",
       "<table border=\"1\" class=\"dataframe\">\n",
       "  <thead>\n",
       "    <tr style=\"text-align: right;\">\n",
       "      <th></th>\n",
       "      <th>Fecha</th>\n",
       "      <th>provincia</th>\n",
       "      <th>Canton</th>\n",
       "      <th>Cod_Parroquia</th>\n",
       "      <th>Parroquia</th>\n",
       "      <th>Servicio</th>\n",
       "      <th>Subtipo</th>\n",
       "    </tr>\n",
       "  </thead>\n",
       "  <tbody>\n",
       "    <tr>\n",
       "      <th>0</th>\n",
       "      <td>01/01/2022</td>\n",
       "      <td>PICHINCHA</td>\n",
       "      <td>QUITO</td>\n",
       "      <td>170150.0</td>\n",
       "      <td>QUITO DISTRITO METROPOLITANO, CABECERA CANTONA...</td>\n",
       "      <td>Seguridad Ciudadana</td>\n",
       "      <td>Presencia policial</td>\n",
       "    </tr>\n",
       "    <tr>\n",
       "      <th>1</th>\n",
       "      <td>01/01/2022</td>\n",
       "      <td>PICHINCHA</td>\n",
       "      <td>QUITO</td>\n",
       "      <td>170177.0</td>\n",
       "      <td>POMASQUI</td>\n",
       "      <td>Seguridad Ciudadana</td>\n",
       "      <td>Fiestas en vivienda</td>\n",
       "    </tr>\n",
       "    <tr>\n",
       "      <th>2</th>\n",
       "      <td>01/01/2022</td>\n",
       "      <td>PICHINCHA</td>\n",
       "      <td>QUITO</td>\n",
       "      <td>170159.0</td>\n",
       "      <td>CHECA (CHILPA)</td>\n",
       "      <td>Seguridad Ciudadana</td>\n",
       "      <td>Escándalo en espacio público</td>\n",
       "    </tr>\n",
       "    <tr>\n",
       "      <th>3</th>\n",
       "      <td>01/01/2022</td>\n",
       "      <td>PICHINCHA</td>\n",
       "      <td>RUMIÑAHUI</td>\n",
       "      <td>170550.0</td>\n",
       "      <td>SANGOLQUI, CABECERA CANTONAL</td>\n",
       "      <td>Seguridad Ciudadana</td>\n",
       "      <td>Patrullaje policial en el sector solicitado</td>\n",
       "    </tr>\n",
       "    <tr>\n",
       "      <th>4</th>\n",
       "      <td>01/01/2022</td>\n",
       "      <td>PICHINCHA</td>\n",
       "      <td>QUITO</td>\n",
       "      <td>170159.0</td>\n",
       "      <td>CHECA (CHILPA)</td>\n",
       "      <td>Seguridad Ciudadana</td>\n",
       "      <td>Escándalo en espacio público</td>\n",
       "    </tr>\n",
       "    <tr>\n",
       "      <th>...</th>\n",
       "      <td>...</td>\n",
       "      <td>...</td>\n",
       "      <td>...</td>\n",
       "      <td>...</td>\n",
       "      <td>...</td>\n",
       "      <td>...</td>\n",
       "      <td>...</td>\n",
       "    </tr>\n",
       "    <tr>\n",
       "      <th>3335959</th>\n",
       "      <td>31/12/2022</td>\n",
       "      <td>SANTO DOMINGO DE LOS TSACHILAS</td>\n",
       "      <td>SANTO DOMINGO</td>\n",
       "      <td>230150.0</td>\n",
       "      <td>SANTO DOMINGO DE LOS COLORADOS, CABECERA CANTO...</td>\n",
       "      <td>Procedimientos</td>\n",
       "      <td>Tránsito y Movilidad</td>\n",
       "    </tr>\n",
       "    <tr>\n",
       "      <th>3335960</th>\n",
       "      <td>31/12/2022</td>\n",
       "      <td>SANTO DOMINGO DE LOS TSACHILAS</td>\n",
       "      <td>SANTO DOMINGO</td>\n",
       "      <td>230150.0</td>\n",
       "      <td>SANTO DOMINGO DE LOS COLORADOS, CABECERA CANTO...</td>\n",
       "      <td>Daño a propiedad pública o privada</td>\n",
       "      <td>Seguridad Ciudadana</td>\n",
       "    </tr>\n",
       "    <tr>\n",
       "      <th>3335961</th>\n",
       "      <td>31/12/2022</td>\n",
       "      <td>SANTO DOMINGO DE LOS TSACHILAS</td>\n",
       "      <td>SANTO DOMINGO</td>\n",
       "      <td>230150.0</td>\n",
       "      <td>SANTO DOMINGO DE LOS COLORADOS, CABECERA CANTO...</td>\n",
       "      <td>Patrullaje policial en el sector solicitado</td>\n",
       "      <td>Seguridad Ciudadana</td>\n",
       "    </tr>\n",
       "    <tr>\n",
       "      <th>3335962</th>\n",
       "      <td>31/12/2022</td>\n",
       "      <td>SANTO DOMINGO DE LOS TSACHILAS</td>\n",
       "      <td>SANTO DOMINGO</td>\n",
       "      <td>230150.0</td>\n",
       "      <td>SANTO DOMINGO DE LOS COLORADOS, CABECERA CANTO...</td>\n",
       "      <td>Eventos clínicos</td>\n",
       "      <td>Gestión Sanitaria</td>\n",
       "    </tr>\n",
       "    <tr>\n",
       "      <th>3335963</th>\n",
       "      <td>31/12/2022</td>\n",
       "      <td>SANTO DOMINGO DE LOS TSACHILAS</td>\n",
       "      <td>SANTO DOMINGO</td>\n",
       "      <td>230150.0</td>\n",
       "      <td>SANTO DOMINGO DE LOS COLORADOS, CABECERA CANTO...</td>\n",
       "      <td>Violencia intrafamiliar</td>\n",
       "      <td>Seguridad Ciudadana</td>\n",
       "    </tr>\n",
       "  </tbody>\n",
       "</table>\n",
       "<p>3335762 rows × 7 columns</p>\n",
       "</div>"
      ],
      "text/plain": [
       "              Fecha                       provincia         Canton  \\\n",
       "0        01/01/2022                       PICHINCHA          QUITO   \n",
       "1        01/01/2022                       PICHINCHA          QUITO   \n",
       "2        01/01/2022                       PICHINCHA          QUITO   \n",
       "3        01/01/2022                       PICHINCHA      RUMIÑAHUI   \n",
       "4        01/01/2022                       PICHINCHA          QUITO   \n",
       "...             ...                             ...            ...   \n",
       "3335959  31/12/2022  SANTO DOMINGO DE LOS TSACHILAS  SANTO DOMINGO   \n",
       "3335960  31/12/2022  SANTO DOMINGO DE LOS TSACHILAS  SANTO DOMINGO   \n",
       "3335961  31/12/2022  SANTO DOMINGO DE LOS TSACHILAS  SANTO DOMINGO   \n",
       "3335962  31/12/2022  SANTO DOMINGO DE LOS TSACHILAS  SANTO DOMINGO   \n",
       "3335963  31/12/2022  SANTO DOMINGO DE LOS TSACHILAS  SANTO DOMINGO   \n",
       "\n",
       "         Cod_Parroquia                                          Parroquia  \\\n",
       "0             170150.0  QUITO DISTRITO METROPOLITANO, CABECERA CANTONA...   \n",
       "1             170177.0                                           POMASQUI   \n",
       "2             170159.0                                     CHECA (CHILPA)   \n",
       "3             170550.0                       SANGOLQUI, CABECERA CANTONAL   \n",
       "4             170159.0                                     CHECA (CHILPA)   \n",
       "...                ...                                                ...   \n",
       "3335959       230150.0  SANTO DOMINGO DE LOS COLORADOS, CABECERA CANTO...   \n",
       "3335960       230150.0  SANTO DOMINGO DE LOS COLORADOS, CABECERA CANTO...   \n",
       "3335961       230150.0  SANTO DOMINGO DE LOS COLORADOS, CABECERA CANTO...   \n",
       "3335962       230150.0  SANTO DOMINGO DE LOS COLORADOS, CABECERA CANTO...   \n",
       "3335963       230150.0  SANTO DOMINGO DE LOS COLORADOS, CABECERA CANTO...   \n",
       "\n",
       "                                            Servicio  \\\n",
       "0                                Seguridad Ciudadana   \n",
       "1                                Seguridad Ciudadana   \n",
       "2                                Seguridad Ciudadana   \n",
       "3                                Seguridad Ciudadana   \n",
       "4                                Seguridad Ciudadana   \n",
       "...                                              ...   \n",
       "3335959                               Procedimientos   \n",
       "3335960           Daño a propiedad pública o privada   \n",
       "3335961  Patrullaje policial en el sector solicitado   \n",
       "3335962                             Eventos clínicos   \n",
       "3335963                      Violencia intrafamiliar   \n",
       "\n",
       "                                             Subtipo  \n",
       "0                                 Presencia policial  \n",
       "1                                Fiestas en vivienda  \n",
       "2                       Escándalo en espacio público  \n",
       "3        Patrullaje policial en el sector solicitado  \n",
       "4                       Escándalo en espacio público  \n",
       "...                                              ...  \n",
       "3335959                         Tránsito y Movilidad  \n",
       "3335960                          Seguridad Ciudadana  \n",
       "3335961                          Seguridad Ciudadana  \n",
       "3335962                            Gestión Sanitaria  \n",
       "3335963                          Seguridad Ciudadana  \n",
       "\n",
       "[3335762 rows x 7 columns]"
      ]
     },
     "execution_count": 40,
     "metadata": {},
     "output_type": "execute_result"
    }
   ],
   "source": [
    "dfanual"
   ]
  },
  {
   "cell_type": "code",
   "execution_count": 41,
   "id": "630cfdba-c5c1-44a8-a136-f66282b7ca7b",
   "metadata": {},
   "outputs": [
    {
     "data": {
      "text/html": [
       "<div>\n",
       "<style scoped>\n",
       "    .dataframe tbody tr th:only-of-type {\n",
       "        vertical-align: middle;\n",
       "    }\n",
       "\n",
       "    .dataframe tbody tr th {\n",
       "        vertical-align: top;\n",
       "    }\n",
       "\n",
       "    .dataframe thead th {\n",
       "        text-align: right;\n",
       "    }\n",
       "</style>\n",
       "<table border=\"1\" class=\"dataframe\">\n",
       "  <thead>\n",
       "    <tr style=\"text-align: right;\">\n",
       "      <th></th>\n",
       "      <th>Fecha</th>\n",
       "      <th>provincia</th>\n",
       "      <th>Canton</th>\n",
       "      <th>Parroquia</th>\n",
       "      <th>Servicio</th>\n",
       "      <th>Subtipo</th>\n",
       "    </tr>\n",
       "  </thead>\n",
       "  <tbody>\n",
       "    <tr>\n",
       "      <th>count</th>\n",
       "      <td>3335762</td>\n",
       "      <td>3335762</td>\n",
       "      <td>3335762</td>\n",
       "      <td>3335762</td>\n",
       "      <td>3335762</td>\n",
       "      <td>3335762</td>\n",
       "    </tr>\n",
       "    <tr>\n",
       "      <th>unique</th>\n",
       "      <td>335</td>\n",
       "      <td>25</td>\n",
       "      <td>222</td>\n",
       "      <td>978</td>\n",
       "      <td>575</td>\n",
       "      <td>647</td>\n",
       "    </tr>\n",
       "    <tr>\n",
       "      <th>top</th>\n",
       "      <td>01/01/2022</td>\n",
       "      <td>GUAYAS</td>\n",
       "      <td>QUITO</td>\n",
       "      <td>GUAYAQUIL, CABECERA CANTONAL Y CAPITAL PROVINCIAL</td>\n",
       "      <td>Seguridad Ciudadana</td>\n",
       "      <td>Patrullaje policial en el sector solicitado</td>\n",
       "    </tr>\n",
       "    <tr>\n",
       "      <th>freq</th>\n",
       "      <td>20326</td>\n",
       "      <td>808419</td>\n",
       "      <td>705159</td>\n",
       "      <td>560179</td>\n",
       "      <td>1949097</td>\n",
       "      <td>672147</td>\n",
       "    </tr>\n",
       "  </tbody>\n",
       "</table>\n",
       "</div>"
      ],
      "text/plain": [
       "             Fecha provincia   Canton  \\\n",
       "count      3335762   3335762  3335762   \n",
       "unique         335        25      222   \n",
       "top     01/01/2022    GUAYAS    QUITO   \n",
       "freq         20326    808419   705159   \n",
       "\n",
       "                                                Parroquia  \\\n",
       "count                                             3335762   \n",
       "unique                                                978   \n",
       "top     GUAYAQUIL, CABECERA CANTONAL Y CAPITAL PROVINCIAL   \n",
       "freq                                               560179   \n",
       "\n",
       "                   Servicio                                      Subtipo  \n",
       "count               3335762                                      3335762  \n",
       "unique                  575                                          647  \n",
       "top     Seguridad Ciudadana  Patrullaje policial en el sector solicitado  \n",
       "freq                1949097                                       672147  "
      ]
     },
     "execution_count": 41,
     "metadata": {},
     "output_type": "execute_result"
    }
   ],
   "source": [
    "summary_stats = dfanual.describe(include = \"object\")\n",
    "summary_stats"
   ]
  },
  {
   "cell_type": "code",
   "execution_count": 42,
   "id": "1848392c-7e9a-44f5-8a6f-4eb6da379896",
   "metadata": {},
   "outputs": [
    {
     "data": {
      "text/html": [
       "<div>\n",
       "<style scoped>\n",
       "    .dataframe tbody tr th:only-of-type {\n",
       "        vertical-align: middle;\n",
       "    }\n",
       "\n",
       "    .dataframe tbody tr th {\n",
       "        vertical-align: top;\n",
       "    }\n",
       "\n",
       "    .dataframe thead th {\n",
       "        text-align: right;\n",
       "    }\n",
       "</style>\n",
       "<table border=\"1\" class=\"dataframe\">\n",
       "  <thead>\n",
       "    <tr style=\"text-align: right;\">\n",
       "      <th></th>\n",
       "      <th>Fecha</th>\n",
       "      <th>provincia</th>\n",
       "      <th>Canton</th>\n",
       "      <th>Cod_Parroquia</th>\n",
       "      <th>Parroquia</th>\n",
       "      <th>Servicio</th>\n",
       "      <th>Subtipo</th>\n",
       "    </tr>\n",
       "  </thead>\n",
       "  <tbody>\n",
       "    <tr>\n",
       "      <th>0</th>\n",
       "      <td>01/01/2022</td>\n",
       "      <td>PICHINCHA</td>\n",
       "      <td>QUITO</td>\n",
       "      <td>170150.0</td>\n",
       "      <td>QUITO DISTRITO METROPOLITANO, CABECERA CANTONA...</td>\n",
       "      <td>Seguridad Ciudadana</td>\n",
       "      <td>Presencia policial</td>\n",
       "    </tr>\n",
       "    <tr>\n",
       "      <th>1</th>\n",
       "      <td>01/01/2022</td>\n",
       "      <td>PICHINCHA</td>\n",
       "      <td>QUITO</td>\n",
       "      <td>170177.0</td>\n",
       "      <td>POMASQUI</td>\n",
       "      <td>Seguridad Ciudadana</td>\n",
       "      <td>Fiestas en vivienda</td>\n",
       "    </tr>\n",
       "    <tr>\n",
       "      <th>2</th>\n",
       "      <td>01/01/2022</td>\n",
       "      <td>PICHINCHA</td>\n",
       "      <td>QUITO</td>\n",
       "      <td>170159.0</td>\n",
       "      <td>CHECA (CHILPA)</td>\n",
       "      <td>Seguridad Ciudadana</td>\n",
       "      <td>Escándalo en espacio público</td>\n",
       "    </tr>\n",
       "    <tr>\n",
       "      <th>3</th>\n",
       "      <td>01/01/2022</td>\n",
       "      <td>PICHINCHA</td>\n",
       "      <td>RUMIÑAHUI</td>\n",
       "      <td>170550.0</td>\n",
       "      <td>SANGOLQUI, CABECERA CANTONAL</td>\n",
       "      <td>Seguridad Ciudadana</td>\n",
       "      <td>Patrullaje policial en el sector solicitado</td>\n",
       "    </tr>\n",
       "    <tr>\n",
       "      <th>4</th>\n",
       "      <td>01/01/2022</td>\n",
       "      <td>PICHINCHA</td>\n",
       "      <td>QUITO</td>\n",
       "      <td>170159.0</td>\n",
       "      <td>CHECA (CHILPA)</td>\n",
       "      <td>Seguridad Ciudadana</td>\n",
       "      <td>Escándalo en espacio público</td>\n",
       "    </tr>\n",
       "    <tr>\n",
       "      <th>...</th>\n",
       "      <td>...</td>\n",
       "      <td>...</td>\n",
       "      <td>...</td>\n",
       "      <td>...</td>\n",
       "      <td>...</td>\n",
       "      <td>...</td>\n",
       "      <td>...</td>\n",
       "    </tr>\n",
       "    <tr>\n",
       "      <th>3335959</th>\n",
       "      <td>31/12/2022</td>\n",
       "      <td>SANTO DOMINGO DE LOS TSACHILAS</td>\n",
       "      <td>SANTO DOMINGO</td>\n",
       "      <td>230150.0</td>\n",
       "      <td>SANTO DOMINGO DE LOS COLORADOS, CABECERA CANTO...</td>\n",
       "      <td>Procedimientos</td>\n",
       "      <td>Tránsito y Movilidad</td>\n",
       "    </tr>\n",
       "    <tr>\n",
       "      <th>3335960</th>\n",
       "      <td>31/12/2022</td>\n",
       "      <td>SANTO DOMINGO DE LOS TSACHILAS</td>\n",
       "      <td>SANTO DOMINGO</td>\n",
       "      <td>230150.0</td>\n",
       "      <td>SANTO DOMINGO DE LOS COLORADOS, CABECERA CANTO...</td>\n",
       "      <td>Daño a propiedad pública o privada</td>\n",
       "      <td>Seguridad Ciudadana</td>\n",
       "    </tr>\n",
       "    <tr>\n",
       "      <th>3335961</th>\n",
       "      <td>31/12/2022</td>\n",
       "      <td>SANTO DOMINGO DE LOS TSACHILAS</td>\n",
       "      <td>SANTO DOMINGO</td>\n",
       "      <td>230150.0</td>\n",
       "      <td>SANTO DOMINGO DE LOS COLORADOS, CABECERA CANTO...</td>\n",
       "      <td>Patrullaje policial en el sector solicitado</td>\n",
       "      <td>Seguridad Ciudadana</td>\n",
       "    </tr>\n",
       "    <tr>\n",
       "      <th>3335962</th>\n",
       "      <td>31/12/2022</td>\n",
       "      <td>SANTO DOMINGO DE LOS TSACHILAS</td>\n",
       "      <td>SANTO DOMINGO</td>\n",
       "      <td>230150.0</td>\n",
       "      <td>SANTO DOMINGO DE LOS COLORADOS, CABECERA CANTO...</td>\n",
       "      <td>Eventos clínicos</td>\n",
       "      <td>Gestión Sanitaria</td>\n",
       "    </tr>\n",
       "    <tr>\n",
       "      <th>3335963</th>\n",
       "      <td>31/12/2022</td>\n",
       "      <td>SANTO DOMINGO DE LOS TSACHILAS</td>\n",
       "      <td>SANTO DOMINGO</td>\n",
       "      <td>230150.0</td>\n",
       "      <td>SANTO DOMINGO DE LOS COLORADOS, CABECERA CANTO...</td>\n",
       "      <td>Violencia intrafamiliar</td>\n",
       "      <td>Seguridad Ciudadana</td>\n",
       "    </tr>\n",
       "  </tbody>\n",
       "</table>\n",
       "<p>3335762 rows × 7 columns</p>\n",
       "</div>"
      ],
      "text/plain": [
       "              Fecha                       provincia         Canton  \\\n",
       "0        01/01/2022                       PICHINCHA          QUITO   \n",
       "1        01/01/2022                       PICHINCHA          QUITO   \n",
       "2        01/01/2022                       PICHINCHA          QUITO   \n",
       "3        01/01/2022                       PICHINCHA      RUMIÑAHUI   \n",
       "4        01/01/2022                       PICHINCHA          QUITO   \n",
       "...             ...                             ...            ...   \n",
       "3335959  31/12/2022  SANTO DOMINGO DE LOS TSACHILAS  SANTO DOMINGO   \n",
       "3335960  31/12/2022  SANTO DOMINGO DE LOS TSACHILAS  SANTO DOMINGO   \n",
       "3335961  31/12/2022  SANTO DOMINGO DE LOS TSACHILAS  SANTO DOMINGO   \n",
       "3335962  31/12/2022  SANTO DOMINGO DE LOS TSACHILAS  SANTO DOMINGO   \n",
       "3335963  31/12/2022  SANTO DOMINGO DE LOS TSACHILAS  SANTO DOMINGO   \n",
       "\n",
       "         Cod_Parroquia                                          Parroquia  \\\n",
       "0             170150.0  QUITO DISTRITO METROPOLITANO, CABECERA CANTONA...   \n",
       "1             170177.0                                           POMASQUI   \n",
       "2             170159.0                                     CHECA (CHILPA)   \n",
       "3             170550.0                       SANGOLQUI, CABECERA CANTONAL   \n",
       "4             170159.0                                     CHECA (CHILPA)   \n",
       "...                ...                                                ...   \n",
       "3335959       230150.0  SANTO DOMINGO DE LOS COLORADOS, CABECERA CANTO...   \n",
       "3335960       230150.0  SANTO DOMINGO DE LOS COLORADOS, CABECERA CANTO...   \n",
       "3335961       230150.0  SANTO DOMINGO DE LOS COLORADOS, CABECERA CANTO...   \n",
       "3335962       230150.0  SANTO DOMINGO DE LOS COLORADOS, CABECERA CANTO...   \n",
       "3335963       230150.0  SANTO DOMINGO DE LOS COLORADOS, CABECERA CANTO...   \n",
       "\n",
       "                                            Servicio  \\\n",
       "0                                Seguridad Ciudadana   \n",
       "1                                Seguridad Ciudadana   \n",
       "2                                Seguridad Ciudadana   \n",
       "3                                Seguridad Ciudadana   \n",
       "4                                Seguridad Ciudadana   \n",
       "...                                              ...   \n",
       "3335959                               Procedimientos   \n",
       "3335960           Daño a propiedad pública o privada   \n",
       "3335961  Patrullaje policial en el sector solicitado   \n",
       "3335962                             Eventos clínicos   \n",
       "3335963                      Violencia intrafamiliar   \n",
       "\n",
       "                                             Subtipo  \n",
       "0                                 Presencia policial  \n",
       "1                                Fiestas en vivienda  \n",
       "2                       Escándalo en espacio público  \n",
       "3        Patrullaje policial en el sector solicitado  \n",
       "4                       Escándalo en espacio público  \n",
       "...                                              ...  \n",
       "3335959                         Tránsito y Movilidad  \n",
       "3335960                          Seguridad Ciudadana  \n",
       "3335961                          Seguridad Ciudadana  \n",
       "3335962                            Gestión Sanitaria  \n",
       "3335963                          Seguridad Ciudadana  \n",
       "\n",
       "[3335762 rows x 7 columns]"
      ]
     },
     "execution_count": 42,
     "metadata": {},
     "output_type": "execute_result"
    }
   ],
   "source": [
    "dfanual"
   ]
  },
  {
   "cell_type": "code",
   "execution_count": 43,
   "id": "d22c8da7-7e79-427e-b2cc-0dffd32b277b",
   "metadata": {},
   "outputs": [],
   "source": [
    "elemento_buscado = \"ORELLANA\"\n",
    "resultado = dfanual.loc[dfanual[\"Canton\"] == elemento_buscado]"
   ]
  },
  {
   "cell_type": "code",
   "execution_count": 44,
   "id": "102482a4-23e3-4801-80d0-cb1426c044f6",
   "metadata": {},
   "outputs": [],
   "source": [
    "condicion = (dfanual[\"Subtipo\"] == \"Seguridad Ciudadana\") | (dfanual[\"Subtipo\"] == \"Gestión Sanitaria\") | (dfanual[\"Subtipo\"] == \"Tránsito y Movilidad\") | (dfanual[\"Subtipo\"] == \"Gestión de Riesgos\") | (dfanual[\"Subtipo\"] == \"Gestión de Siniestros\") | (dfanual[\"Subtipo\"] == \"Servicios Municipales\") | (dfanual[\"Subtipo\"] == \"Servicio Militar\")\n",
    "dfanual.loc[condicion, [\"Subtipo\", \"Servicio\"]] = dfanual.loc[condicion, [\"Servicio\", \"Subtipo\"]].values "
   ]
  },
  {
   "cell_type": "code",
   "execution_count": 45,
   "id": "b9cd349c-1e48-4ebf-9f4f-3967b79c4695",
   "metadata": {},
   "outputs": [
    {
     "data": {
      "text/html": [
       "<div>\n",
       "<style scoped>\n",
       "    .dataframe tbody tr th:only-of-type {\n",
       "        vertical-align: middle;\n",
       "    }\n",
       "\n",
       "    .dataframe tbody tr th {\n",
       "        vertical-align: top;\n",
       "    }\n",
       "\n",
       "    .dataframe thead th {\n",
       "        text-align: right;\n",
       "    }\n",
       "</style>\n",
       "<table border=\"1\" class=\"dataframe\">\n",
       "  <thead>\n",
       "    <tr style=\"text-align: right;\">\n",
       "      <th></th>\n",
       "      <th>Fecha</th>\n",
       "      <th>provincia</th>\n",
       "      <th>Canton</th>\n",
       "      <th>Cod_Parroquia</th>\n",
       "      <th>Parroquia</th>\n",
       "      <th>Servicio</th>\n",
       "      <th>Subtipo</th>\n",
       "    </tr>\n",
       "  </thead>\n",
       "  <tbody>\n",
       "    <tr>\n",
       "      <th>0</th>\n",
       "      <td>01/01/2022</td>\n",
       "      <td>PICHINCHA</td>\n",
       "      <td>QUITO</td>\n",
       "      <td>170150.0</td>\n",
       "      <td>QUITO DISTRITO METROPOLITANO, CABECERA CANTONA...</td>\n",
       "      <td>Seguridad Ciudadana</td>\n",
       "      <td>Presencia policial</td>\n",
       "    </tr>\n",
       "    <tr>\n",
       "      <th>1</th>\n",
       "      <td>01/01/2022</td>\n",
       "      <td>PICHINCHA</td>\n",
       "      <td>QUITO</td>\n",
       "      <td>170177.0</td>\n",
       "      <td>POMASQUI</td>\n",
       "      <td>Seguridad Ciudadana</td>\n",
       "      <td>Fiestas en vivienda</td>\n",
       "    </tr>\n",
       "    <tr>\n",
       "      <th>2</th>\n",
       "      <td>01/01/2022</td>\n",
       "      <td>PICHINCHA</td>\n",
       "      <td>QUITO</td>\n",
       "      <td>170159.0</td>\n",
       "      <td>CHECA (CHILPA)</td>\n",
       "      <td>Seguridad Ciudadana</td>\n",
       "      <td>Escándalo en espacio público</td>\n",
       "    </tr>\n",
       "    <tr>\n",
       "      <th>3</th>\n",
       "      <td>01/01/2022</td>\n",
       "      <td>PICHINCHA</td>\n",
       "      <td>RUMIÑAHUI</td>\n",
       "      <td>170550.0</td>\n",
       "      <td>SANGOLQUI, CABECERA CANTONAL</td>\n",
       "      <td>Seguridad Ciudadana</td>\n",
       "      <td>Patrullaje policial en el sector solicitado</td>\n",
       "    </tr>\n",
       "    <tr>\n",
       "      <th>4</th>\n",
       "      <td>01/01/2022</td>\n",
       "      <td>PICHINCHA</td>\n",
       "      <td>QUITO</td>\n",
       "      <td>170159.0</td>\n",
       "      <td>CHECA (CHILPA)</td>\n",
       "      <td>Seguridad Ciudadana</td>\n",
       "      <td>Escándalo en espacio público</td>\n",
       "    </tr>\n",
       "    <tr>\n",
       "      <th>...</th>\n",
       "      <td>...</td>\n",
       "      <td>...</td>\n",
       "      <td>...</td>\n",
       "      <td>...</td>\n",
       "      <td>...</td>\n",
       "      <td>...</td>\n",
       "      <td>...</td>\n",
       "    </tr>\n",
       "    <tr>\n",
       "      <th>3335959</th>\n",
       "      <td>31/12/2022</td>\n",
       "      <td>SANTO DOMINGO DE LOS TSACHILAS</td>\n",
       "      <td>SANTO DOMINGO</td>\n",
       "      <td>230150.0</td>\n",
       "      <td>SANTO DOMINGO DE LOS COLORADOS, CABECERA CANTO...</td>\n",
       "      <td>Tránsito y Movilidad</td>\n",
       "      <td>Procedimientos</td>\n",
       "    </tr>\n",
       "    <tr>\n",
       "      <th>3335960</th>\n",
       "      <td>31/12/2022</td>\n",
       "      <td>SANTO DOMINGO DE LOS TSACHILAS</td>\n",
       "      <td>SANTO DOMINGO</td>\n",
       "      <td>230150.0</td>\n",
       "      <td>SANTO DOMINGO DE LOS COLORADOS, CABECERA CANTO...</td>\n",
       "      <td>Seguridad Ciudadana</td>\n",
       "      <td>Daño a propiedad pública o privada</td>\n",
       "    </tr>\n",
       "    <tr>\n",
       "      <th>3335961</th>\n",
       "      <td>31/12/2022</td>\n",
       "      <td>SANTO DOMINGO DE LOS TSACHILAS</td>\n",
       "      <td>SANTO DOMINGO</td>\n",
       "      <td>230150.0</td>\n",
       "      <td>SANTO DOMINGO DE LOS COLORADOS, CABECERA CANTO...</td>\n",
       "      <td>Seguridad Ciudadana</td>\n",
       "      <td>Patrullaje policial en el sector solicitado</td>\n",
       "    </tr>\n",
       "    <tr>\n",
       "      <th>3335962</th>\n",
       "      <td>31/12/2022</td>\n",
       "      <td>SANTO DOMINGO DE LOS TSACHILAS</td>\n",
       "      <td>SANTO DOMINGO</td>\n",
       "      <td>230150.0</td>\n",
       "      <td>SANTO DOMINGO DE LOS COLORADOS, CABECERA CANTO...</td>\n",
       "      <td>Gestión Sanitaria</td>\n",
       "      <td>Eventos clínicos</td>\n",
       "    </tr>\n",
       "    <tr>\n",
       "      <th>3335963</th>\n",
       "      <td>31/12/2022</td>\n",
       "      <td>SANTO DOMINGO DE LOS TSACHILAS</td>\n",
       "      <td>SANTO DOMINGO</td>\n",
       "      <td>230150.0</td>\n",
       "      <td>SANTO DOMINGO DE LOS COLORADOS, CABECERA CANTO...</td>\n",
       "      <td>Seguridad Ciudadana</td>\n",
       "      <td>Violencia intrafamiliar</td>\n",
       "    </tr>\n",
       "  </tbody>\n",
       "</table>\n",
       "<p>3335762 rows × 7 columns</p>\n",
       "</div>"
      ],
      "text/plain": [
       "              Fecha                       provincia         Canton  \\\n",
       "0        01/01/2022                       PICHINCHA          QUITO   \n",
       "1        01/01/2022                       PICHINCHA          QUITO   \n",
       "2        01/01/2022                       PICHINCHA          QUITO   \n",
       "3        01/01/2022                       PICHINCHA      RUMIÑAHUI   \n",
       "4        01/01/2022                       PICHINCHA          QUITO   \n",
       "...             ...                             ...            ...   \n",
       "3335959  31/12/2022  SANTO DOMINGO DE LOS TSACHILAS  SANTO DOMINGO   \n",
       "3335960  31/12/2022  SANTO DOMINGO DE LOS TSACHILAS  SANTO DOMINGO   \n",
       "3335961  31/12/2022  SANTO DOMINGO DE LOS TSACHILAS  SANTO DOMINGO   \n",
       "3335962  31/12/2022  SANTO DOMINGO DE LOS TSACHILAS  SANTO DOMINGO   \n",
       "3335963  31/12/2022  SANTO DOMINGO DE LOS TSACHILAS  SANTO DOMINGO   \n",
       "\n",
       "         Cod_Parroquia                                          Parroquia  \\\n",
       "0             170150.0  QUITO DISTRITO METROPOLITANO, CABECERA CANTONA...   \n",
       "1             170177.0                                           POMASQUI   \n",
       "2             170159.0                                     CHECA (CHILPA)   \n",
       "3             170550.0                       SANGOLQUI, CABECERA CANTONAL   \n",
       "4             170159.0                                     CHECA (CHILPA)   \n",
       "...                ...                                                ...   \n",
       "3335959       230150.0  SANTO DOMINGO DE LOS COLORADOS, CABECERA CANTO...   \n",
       "3335960       230150.0  SANTO DOMINGO DE LOS COLORADOS, CABECERA CANTO...   \n",
       "3335961       230150.0  SANTO DOMINGO DE LOS COLORADOS, CABECERA CANTO...   \n",
       "3335962       230150.0  SANTO DOMINGO DE LOS COLORADOS, CABECERA CANTO...   \n",
       "3335963       230150.0  SANTO DOMINGO DE LOS COLORADOS, CABECERA CANTO...   \n",
       "\n",
       "                     Servicio                                      Subtipo  \n",
       "0         Seguridad Ciudadana                           Presencia policial  \n",
       "1         Seguridad Ciudadana                          Fiestas en vivienda  \n",
       "2         Seguridad Ciudadana                 Escándalo en espacio público  \n",
       "3         Seguridad Ciudadana  Patrullaje policial en el sector solicitado  \n",
       "4         Seguridad Ciudadana                 Escándalo en espacio público  \n",
       "...                       ...                                          ...  \n",
       "3335959  Tránsito y Movilidad                               Procedimientos  \n",
       "3335960   Seguridad Ciudadana           Daño a propiedad pública o privada  \n",
       "3335961   Seguridad Ciudadana  Patrullaje policial en el sector solicitado  \n",
       "3335962     Gestión Sanitaria                             Eventos clínicos  \n",
       "3335963   Seguridad Ciudadana                      Violencia intrafamiliar  \n",
       "\n",
       "[3335762 rows x 7 columns]"
      ]
     },
     "execution_count": 45,
     "metadata": {},
     "output_type": "execute_result"
    }
   ],
   "source": [
    "dfanual"
   ]
  },
  {
   "cell_type": "code",
   "execution_count": 47,
   "id": "8bde4c02-e4e9-42c7-b443-3306c246cd42",
   "metadata": {},
   "outputs": [
    {
     "data": {
      "text/html": [
       "<div>\n",
       "<style scoped>\n",
       "    .dataframe tbody tr th:only-of-type {\n",
       "        vertical-align: middle;\n",
       "    }\n",
       "\n",
       "    .dataframe tbody tr th {\n",
       "        vertical-align: top;\n",
       "    }\n",
       "\n",
       "    .dataframe thead th {\n",
       "        text-align: right;\n",
       "    }\n",
       "</style>\n",
       "<table border=\"1\" class=\"dataframe\">\n",
       "  <thead>\n",
       "    <tr style=\"text-align: right;\">\n",
       "      <th></th>\n",
       "      <th>Fecha</th>\n",
       "      <th>provincia</th>\n",
       "      <th>Canton</th>\n",
       "      <th>Parroquia</th>\n",
       "      <th>Servicio</th>\n",
       "      <th>Subtipo</th>\n",
       "    </tr>\n",
       "  </thead>\n",
       "  <tbody>\n",
       "    <tr>\n",
       "      <th>count</th>\n",
       "      <td>3335762</td>\n",
       "      <td>3335762</td>\n",
       "      <td>3335762</td>\n",
       "      <td>3335762</td>\n",
       "      <td>3335762</td>\n",
       "      <td>3335762</td>\n",
       "    </tr>\n",
       "    <tr>\n",
       "      <th>unique</th>\n",
       "      <td>335</td>\n",
       "      <td>25</td>\n",
       "      <td>222</td>\n",
       "      <td>978</td>\n",
       "      <td>7</td>\n",
       "      <td>650</td>\n",
       "    </tr>\n",
       "    <tr>\n",
       "      <th>top</th>\n",
       "      <td>01/01/2022</td>\n",
       "      <td>GUAYAS</td>\n",
       "      <td>QUITO</td>\n",
       "      <td>GUAYAQUIL, CABECERA CANTONAL Y CAPITAL PROVINCIAL</td>\n",
       "      <td>Seguridad Ciudadana</td>\n",
       "      <td>Patrullaje policial en el sector solicitado</td>\n",
       "    </tr>\n",
       "    <tr>\n",
       "      <th>freq</th>\n",
       "      <td>20326</td>\n",
       "      <td>808419</td>\n",
       "      <td>705159</td>\n",
       "      <td>560179</td>\n",
       "      <td>2373976</td>\n",
       "      <td>828639</td>\n",
       "    </tr>\n",
       "  </tbody>\n",
       "</table>\n",
       "</div>"
      ],
      "text/plain": [
       "             Fecha provincia   Canton  \\\n",
       "count      3335762   3335762  3335762   \n",
       "unique         335        25      222   \n",
       "top     01/01/2022    GUAYAS    QUITO   \n",
       "freq         20326    808419   705159   \n",
       "\n",
       "                                                Parroquia  \\\n",
       "count                                             3335762   \n",
       "unique                                                978   \n",
       "top     GUAYAQUIL, CABECERA CANTONAL Y CAPITAL PROVINCIAL   \n",
       "freq                                               560179   \n",
       "\n",
       "                   Servicio                                      Subtipo  \n",
       "count               3335762                                      3335762  \n",
       "unique                    7                                          650  \n",
       "top     Seguridad Ciudadana  Patrullaje policial en el sector solicitado  \n",
       "freq                2373976                                       828639  "
      ]
     },
     "execution_count": 47,
     "metadata": {},
     "output_type": "execute_result"
    }
   ],
   "source": [
    "summary_stats = dfanual.describe(include = \"object\")\n",
    "summary_stats"
   ]
  },
  {
   "cell_type": "code",
   "execution_count": 48,
   "id": "b316f493-29bb-4581-83e3-e4481d9ee655",
   "metadata": {},
   "outputs": [],
   "source": [
    "dfanual.to_csv(\"dfanual.csv\", index = False)"
   ]
  },
  {
   "cell_type": "code",
   "execution_count": 49,
   "id": "6e7adfe3-648d-46ca-a84c-7d5808a34f0c",
   "metadata": {},
   "outputs": [],
   "source": [
    "cantones_ec=pd.read_excel('Cantones.xlsx')"
   ]
  },
  {
   "cell_type": "code",
   "execution_count": 50,
   "id": "d33b3376-94f5-447c-9b25-6278dcbcd59f",
   "metadata": {
    "scrolled": true
   },
   "outputs": [
    {
     "data": {
      "text/html": [
       "<div>\n",
       "<style scoped>\n",
       "    .dataframe tbody tr th:only-of-type {\n",
       "        vertical-align: middle;\n",
       "    }\n",
       "\n",
       "    .dataframe tbody tr th {\n",
       "        vertical-align: top;\n",
       "    }\n",
       "\n",
       "    .dataframe thead th {\n",
       "        text-align: right;\n",
       "    }\n",
       "</style>\n",
       "<table border=\"1\" class=\"dataframe\">\n",
       "  <thead>\n",
       "    <tr style=\"text-align: right;\">\n",
       "      <th></th>\n",
       "      <th>Canton</th>\n",
       "    </tr>\n",
       "  </thead>\n",
       "  <tbody>\n",
       "    <tr>\n",
       "      <th>0</th>\n",
       "      <td>CUENCA</td>\n",
       "    </tr>\n",
       "    <tr>\n",
       "      <th>1</th>\n",
       "      <td>CUENCA</td>\n",
       "    </tr>\n",
       "    <tr>\n",
       "      <th>2</th>\n",
       "      <td>CUENCA</td>\n",
       "    </tr>\n",
       "    <tr>\n",
       "      <th>3</th>\n",
       "      <td>CUENCA</td>\n",
       "    </tr>\n",
       "    <tr>\n",
       "      <th>4</th>\n",
       "      <td>CUENCA</td>\n",
       "    </tr>\n",
       "    <tr>\n",
       "      <th>...</th>\n",
       "      <td>...</td>\n",
       "    </tr>\n",
       "    <tr>\n",
       "      <th>1019</th>\n",
       "      <td>SALINAS</td>\n",
       "    </tr>\n",
       "    <tr>\n",
       "      <th>1020</th>\n",
       "      <td>SALINAS</td>\n",
       "    </tr>\n",
       "    <tr>\n",
       "      <th>1021</th>\n",
       "      <td>ZONAS NO DELIMITADAS</td>\n",
       "    </tr>\n",
       "    <tr>\n",
       "      <th>1022</th>\n",
       "      <td>ZONAS NO DELIMITADAS</td>\n",
       "    </tr>\n",
       "    <tr>\n",
       "      <th>1023</th>\n",
       "      <td>ZONAS NO DELIMITADAS</td>\n",
       "    </tr>\n",
       "  </tbody>\n",
       "</table>\n",
       "<p>1024 rows × 1 columns</p>\n",
       "</div>"
      ],
      "text/plain": [
       "                    Canton\n",
       "0                   CUENCA\n",
       "1                   CUENCA\n",
       "2                   CUENCA\n",
       "3                   CUENCA\n",
       "4                   CUENCA\n",
       "...                    ...\n",
       "1019               SALINAS\n",
       "1020               SALINAS\n",
       "1021  ZONAS NO DELIMITADAS\n",
       "1022  ZONAS NO DELIMITADAS\n",
       "1023  ZONAS NO DELIMITADAS\n",
       "\n",
       "[1024 rows x 1 columns]"
      ]
     },
     "execution_count": 50,
     "metadata": {},
     "output_type": "execute_result"
    }
   ],
   "source": [
    "cantones_ec"
   ]
  },
  {
   "cell_type": "code",
   "execution_count": 51,
   "id": "a0a64b03-21b0-4a21-be97-96e062c4ac32",
   "metadata": {},
   "outputs": [],
   "source": [
    "cantones_sin_duplicados = cantones_ec.drop_duplicates(subset=['Canton'])"
   ]
  },
  {
   "cell_type": "code",
   "execution_count": 52,
   "id": "fd9b5113-4fe1-4ab7-a566-4f95d4a72a3f",
   "metadata": {},
   "outputs": [],
   "source": [
    "cantones_sin_duplicados = cantones_sin_duplicados.replace('\\xa0', ' ', regex=True)\n",
    "cantones_sin_duplicados = cantones_sin_duplicados.apply(lambda x: x.str.strip() if x.dtype == \"object\" else x)"
   ]
  },
  {
   "cell_type": "code",
   "execution_count": 53,
   "id": "8ce74d32-4c00-4344-bc30-0f87a69213b9",
   "metadata": {},
   "outputs": [],
   "source": [
    "dfanual_canton_solo=dfanual.drop_duplicates(subset=['Canton'])"
   ]
  },
  {
   "cell_type": "code",
   "execution_count": 54,
   "id": "963205fd-bbd8-48b9-8499-50e612cbe2cb",
   "metadata": {},
   "outputs": [
    {
     "name": "stdout",
     "output_type": "stream",
     "text": [
      "['YANTZAZA', 'GNRAL. ANTONIO ELIZALDE', 'GENERAL ANTONIO ELIZALDE', 'TIWINTZA', 'CANTON TIWINTZA', 'EL PIEDRERO', 'EL EMPALME', 'ALFREDO BAQUERIZO MORENO (JUJAN)', 'LOGROÐO', 'SALITRE (URBINA JADO)', 'CORONEL MARCELINO MARIDUEÑA', 'YANTZAZA (YANZATZA)', 'ZONAS NO DELIMITADAS', 'ALFREDO BAQUERIZO MORENO', 'LAS GOLONDRINAS', 'EMPALME', 'CRNEL. MARCELINO MARIDUEÑA', 'SALITRE']\n"
     ]
    }
   ],
   "source": [
    "set1=set(list(cantones_sin_duplicados['Canton']))\n",
    "set2=set(dfanual_canton_solo['Canton'])\n",
    "interseccion = set1.intersection(set2)\n",
    "elementos_no_comunes = set1.union(set2) - interseccion\n",
    "resultado_lista = list(elementos_no_comunes)\n",
    "print(resultado_lista)"
   ]
  },
  {
   "cell_type": "code",
   "execution_count": 55,
   "id": "1fdb794a-7337-451e-afe1-5343cfb67f74",
   "metadata": {},
   "outputs": [],
   "source": [
    "Cantones_extra=['YANTZAZA','YANTZAZA (YANZATZA)','EL EMPALME','EMPALME','CANTON TIWINTZA','TIWINTZA','GENERAL ANTONIO ELIZALDE','GNRAL. ANTONIO ELIZALDE','ALFREDO BAQUERIZO MORENO (JUJAN)','ALFREDO BAQUERIZO MORENO','CORONEL MARCELINO MARIDUEÑA','CRNEL. MARCELINO MARIDUEÑA',\n",
    "                'SALITRE (URBINA JADO)','SALITRE']"
   ]
  },
  {
   "cell_type": "code",
   "execution_count": 56,
   "id": "7df28f0f-6cb2-4e01-b391-f7df0784736f",
   "metadata": {},
   "outputs": [
    {
     "name": "stdout",
     "output_type": "stream",
     "text": [
      "['EL PIEDRERO', 'LOGROÐO', 'ZONAS NO DELIMITADAS', 'LAS GOLONDRINAS']\n"
     ]
    }
   ],
   "source": [
    "resultado_lista = [elemento for elemento in resultado_lista if elemento not in Cantones_extra]\n",
    "\n",
    "print(resultado_lista) "
   ]
  },
  {
   "cell_type": "code",
   "execution_count": 57,
   "id": "53ed45d9-26cc-4aa2-b256-52d32a124699",
   "metadata": {},
   "outputs": [
    {
     "name": "stdout",
     "output_type": "stream",
     "text": [
      "El elemento está en la columna.\n"
     ]
    }
   ],
   "source": [
    "esta_en_columna = dfanual['Canton'].isin(['LAS GOLONDRINAS']).any()\n",
    "\n",
    "if esta_en_columna:\n",
    "    print(f\"El elemento está en la columna.\")\n",
    "else:\n",
    "    print(f\"El elemento no está en la columna.\")"
   ]
  },
  {
   "cell_type": "code",
   "execution_count": 58,
   "id": "9eed0cac-9629-4b6e-bdb6-9ca5b722c447",
   "metadata": {},
   "outputs": [
    {
     "name": "stdout",
     "output_type": "stream",
     "text": [
      "Número de observaciones con 'LAS GOLONDRINAS' como cantón: 434\n"
     ]
    }
   ],
   "source": [
    "count_golondrinas = (dfanual['Canton'] == 'LAS GOLONDRINAS').sum()\n",
    "print(\"Número de observaciones con 'LAS GOLONDRINAS' como cantón:\", count_golondrinas)\n"
   ]
  },
  {
   "cell_type": "code",
   "execution_count": 59,
   "id": "0b8537d8-5a5d-4309-b6f9-9bcd9b04b4f4",
   "metadata": {},
   "outputs": [
    {
     "name": "stderr",
     "output_type": "stream",
     "text": [
      "/Users/anthonyparedesu/anaconda3/envs/Datascience_usfq/lib/python3.11/site-packages/seaborn/_oldcore.py:1119: FutureWarning: use_inf_as_na option is deprecated and will be removed in a future version. Convert inf values to NaN before operating instead.\n",
      "  with pd.option_context('mode.use_inf_as_na', True):\n"
     ]
    },
    {
     "data": {
      "image/png": "[encoded data removed]",
      "text/plain": [
       "<Figure size 640x480 with 1 Axes>"
      ]
     },
     "metadata": {},
     "output_type": "display_data"
    }
   ],
   "source": [
    "sns.histplot(dfanual['Servicio'])\n",
    "plt.xticks(rotation=45, ha='right')\n",
    "plt.tight_layout()\n",
    "plt.show()"
   ]
  },
  {
   "cell_type": "code",
   "execution_count": null,
   "id": "e5316414-9da1-4a9f-be65-df5f0ff19fb4",
   "metadata": {},
   "outputs": [],
   "source": []
  }
 ],
 "metadata": {
  "kernelspec": {
   "display_name": "Python 3 (ipykernel)",
   "language": "python",
   "name": "python3"
  },
  "language_info": {
   "codemirror_mode": {
    "name": "ipython",
    "version": 3
   },
   "file_extension": ".py",
   "mimetype": "text/x-python",
   "name": "python",
   "nbconvert_exporter": "python",
   "pygments_lexer": "ipython3",
   "version": "3.11.7"
  }
 },
 "nbformat": 4,
 "nbformat_minor": 5
}
